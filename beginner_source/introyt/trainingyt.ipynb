{
 "cells": [
  {
   "cell_type": "code",
   "execution_count": null,
   "metadata": {
    "collapsed": false
   },
   "outputs": [],
   "source": [
    "# For tips on running notebooks in Google Colab, see\n",
    "# https://pytorch.org/tutorials/beginner/colab\n",
    "%matplotlib inline"
   ]
  },
  {
   "cell_type": "markdown",
   "metadata": {},
   "source": [
    "[Introduction](introyt1_tutorial.html) \\|\\|\n",
    "[Tensors](tensors_deeper_tutorial.html) \\|\\|\n",
    "[Autograd](autogradyt_tutorial.html) \\|\\| [Building\n",
    "Models](modelsyt_tutorial.html) \\|\\| [TensorBoard\n",
    "Support](tensorboardyt_tutorial.html) \\|\\| **Training Models** \\|\\|\n",
    "[Model Understanding](captumyt.html)\n",
    "\n",
    "Training with PyTorch\n",
    "=====================\n",
    "\n",
    "Follow along with the video below or on\n",
    "[youtube](https://www.youtube.com/watch?v=jF43_wj_DCQ).\n",
    "\n"
   ]
  },
  {
   "cell_type": "code",
   "execution_count": 1,
   "id": "c0fa3ab2",
   "metadata": {},
   "outputs": [
    {
     "data": {
      "text/html": [
       "\n",
       "<div style=\"margin-top:10px; margin-bottom:10px;\">\n",
       "  <iframe width=\"560\" height=\"315\" src=\"https://www.youtube.com/embed/jF43_wj_DCQ\" frameborder=\"0\" allow=\"accelerometer; encrypted-media; gyroscope; picture-in-picture\" allowfullscreen></iframe>\n",
       "</div>\n"
      ],
      "text/plain": [
       "<IPython.core.display.HTML object>"
      ]
     },
     "metadata": {},
     "output_type": "display_data"
    }
   ],
   "source": [
    "# Run this cell to load the video\n",
    "from IPython.display import display, HTML\n",
    "html_code = \"\"\"\n",
    "<div style=\"margin-top:10px; margin-bottom:10px;\">\n",
    "  <iframe width=\"560\" height=\"315\" src=\"https://www.youtube.com/embed/jF43_wj_DCQ\" frameborder=\"0\" allow=\"accelerometer; encrypted-media; gyroscope; picture-in-picture\" allowfullscreen></iframe>\n",
    "</div>\n",
    "\"\"\"\n",
    "display(HTML(html_code))"
   ]
  },
  {
   "cell_type": "markdown",
   "id": "e3be9147",
   "metadata": {},
   "source": [
    "\n",
    "\n",
    "Introduction\n",
    "------------\n",
    "\n",
    "In past videos, we've discussed and demonstrated:\n",
    "\n",
    "-   Building models with the neural network layers and functions of the\n",
    "    torch.nn module\n",
    "-   The mechanics of automated gradient computation, which is central to\n",
    "    gradient-based model training\n",
    "-   Using TensorBoard to visualize training progress and other\n",
    "    activities\n",
    "\n",
    "In this video, we'll be adding some new tools to your inventory:\n",
    "\n",
    "-   We'll get familiar with the dataset and dataloader abstractions, and\n",
    "    how they ease the process of feeding data to your model during a\n",
    "    training loop\n",
    "-   We'll discuss specific loss functions and when to use them\n",
    "-   We'll look at PyTorch optimizers, which implement algorithms to\n",
    "    adjust model weights based on the outcome of a loss function\n",
    "\n",
    "Finally, we'll pull all of these together and see a full PyTorch\n",
    "training loop in action.\n",
    "\n",
    "Dataset and DataLoader\n",
    "----------------------\n",
    "\n",
    "The `Dataset` and `DataLoader` classes encapsulate the process of\n",
    "pulling your data from storage and exposing it to your training loop in\n",
    "batches.\n",
    "\n",
    "The `Dataset` is responsible for accessing and processing single\n",
    "instances of data.\n",
    "\n",
    "The `DataLoader` pulls instances of data from the `Dataset` (either\n",
    "automatically or with a sampler that you define), collects them in\n",
    "batches, and returns them for consumption by your training loop. The\n",
    "`DataLoader` works with all kinds of datasets, regardless of the type of\n",
    "data they contain.\n",
    "\n",
    "For this tutorial, we'll be using the Fashion-MNIST dataset provided by\n",
    "TorchVision. We use `torchvision.transforms.Normalize()` to zero-center\n",
    "and normalize the distribution of the image tile content, and download\n",
    "both training and validation data splits.\n"
   ]
  },
  {
   "cell_type": "code",
   "execution_count": 2,
   "metadata": {
    "collapsed": false
   },
   "outputs": [
    {
     "name": "stdout",
     "output_type": "stream",
     "text": [
      "Training set has 60000 instances\n",
      "Validation set has 10000 instances\n"
     ]
    }
   ],
   "source": [
    "import torch\n",
    "import torchvision\n",
    "import torchvision.transforms as transforms\n",
    "\n",
    "# PyTorch TensorBoard support\n",
    "from torch.utils.tensorboard import SummaryWriter\n",
    "from datetime import datetime\n",
    "\n",
    "\n",
    "transform = transforms.Compose(\n",
    "    [transforms.ToTensor(),\n",
    "    transforms.Normalize((0.5,), (0.5,))])\n",
    "\n",
    "# Create datasets for training & validation, download if necessary\n",
    "training_set = torchvision.datasets.FashionMNIST('./data', train=True, transform=transform, download=True)\n",
    "validation_set = torchvision.datasets.FashionMNIST('./data', train=False, transform=transform, download=True)\n",
    "\n",
    "# Create data loaders for our datasets; shuffle for training, not for validation\n",
    "training_loader = torch.utils.data.DataLoader(training_set, batch_size=4, shuffle=True)\n",
    "validation_loader = torch.utils.data.DataLoader(validation_set, batch_size=4, shuffle=False)\n",
    "\n",
    "# Class labels\n",
    "classes = ('T-shirt/top', 'Trouser', 'Pullover', 'Dress', 'Coat',\n",
    "        'Sandal', 'Shirt', 'Sneaker', 'Bag', 'Ankle Boot')\n",
    "\n",
    "# Report split sizes\n",
    "print('Training set has {} instances'.format(len(training_set)))\n",
    "print('Validation set has {} instances'.format(len(validation_set)))"
   ]
  },
  {
   "cell_type": "markdown",
   "metadata": {},
   "source": [
    "As always, let's visualize the data as a sanity check:\n"
   ]
  },
  {
   "cell_type": "code",
   "execution_count": 5,
   "metadata": {
    "collapsed": false
   },
   "outputs": [
    {
     "name": "stdout",
     "output_type": "stream",
     "text": [
      "Coat  Coat  Sandal  Coat\n"
     ]
    },
    {
     "data": {
      "image/png": "[encoded data removed]",
      "text/plain": [
       "<Figure size 640x480 with 1 Axes>"
      ]
     },
     "metadata": {},
     "output_type": "display_data"
    }
   ],
   "source": [
    "import matplotlib.pyplot as plt\n",
    "import numpy as np\n",
    "\n",
    "# Helper function for inline image display\n",
    "def matplotlib_imshow(img, one_channel=False):\n",
    "    if one_channel:\n",
    "        img = img.mean(dim=0)\n",
    "    img = img / 2 + 0.5     # unnormalize\n",
    "    npimg = img.numpy()\n",
    "    if one_channel:\n",
    "        plt.imshow(npimg, cmap=\"Greys\")\n",
    "    else:\n",
    "        plt.imshow(np.transpose(npimg, (1, 2, 0)))\n",
    "\n",
    "dataiter = iter(training_loader)\n",
    "images, labels = next(dataiter)\n",
    "\n",
    "# Create a grid from the images and show them\n",
    "img_grid = torchvision.utils.make_grid(images)\n",
    "matplotlib_imshow(img_grid, one_channel=True)\n",
    "print('  '.join(classes[labels[j]] for j in range(4)))"
   ]
  },
  {
   "cell_type": "markdown",
   "metadata": {},
   "source": [
    "The Model\n",
    "=========\n",
    "\n",
    "The model we'll use in this example is a variant of LeNet-5 - it should\n",
    "be familiar if you've watched the previous videos in this series.\n"
   ]
  },
  {
   "cell_type": "code",
   "execution_count": 6,
   "metadata": {
    "collapsed": false
   },
   "outputs": [],
   "source": [
    "import torch.nn as nn\n",
    "import torch.nn.functional as F\n",
    "\n",
    "# PyTorch models inherit from torch.nn.Module\n",
    "class GarmentClassifier(nn.Module):\n",
    "    def __init__(self):\n",
    "        super(GarmentClassifier, self).__init__()\n",
    "        self.conv1 = nn.Conv2d(1, 6, 5)\n",
    "        self.pool = nn.MaxPool2d(2, 2)\n",
    "        self.conv2 = nn.Conv2d(6, 16, 5)\n",
    "        self.fc1 = nn.Linear(16 * 4 * 4, 120)\n",
    "        self.fc2 = nn.Linear(120, 84)\n",
    "        self.fc3 = nn.Linear(84, 10)\n",
    "\n",
    "    def forward(self, x):\n",
    "        x = self.pool(F.relu(self.conv1(x)))\n",
    "        x = self.pool(F.relu(self.conv2(x)))\n",
    "        x = x.view(-1, 16 * 4 * 4)\n",
    "        x = F.relu(self.fc1(x))\n",
    "        x = F.relu(self.fc2(x))\n",
    "        x = self.fc3(x)\n",
    "        return x\n",
    "    \n",
    "\n",
    "model = GarmentClassifier()"
   ]
  },
  {
   "cell_type": "markdown",
   "metadata": {},
   "source": [
    "Loss Function\n",
    "=============\n",
    "\n",
    "For this example, we'll be using a cross-entropy loss. For demonstration\n",
    "purposes, we'll create batches of dummy output and label values, run\n",
    "them through the loss function, and examine the result.\n"
   ]
  },
  {
   "cell_type": "code",
   "execution_count": 7,
   "metadata": {
    "collapsed": false
   },
   "outputs": [
    {
     "name": "stdout",
     "output_type": "stream",
     "text": [
      "tensor([[0.7743, 0.3926, 0.8029, 0.3715, 0.8026, 0.5197, 0.7911, 0.5728, 0.4296,\n",
      "         0.1193],\n",
      "        [0.5085, 0.7349, 0.0268, 0.7478, 0.5459, 0.9976, 0.5253, 0.0185, 0.5847,\n",
      "         0.8527],\n",
      "        [0.3826, 0.0654, 0.5450, 0.0289, 0.1397, 0.3769, 0.5224, 0.2724, 0.3255,\n",
      "         0.4537],\n",
      "        [0.6118, 0.0070, 0.4575, 0.2051, 0.9289, 0.9759, 0.0898, 0.2038, 0.5978,\n",
      "         0.7268]])\n",
      "tensor([1, 5, 3, 7])\n",
      "Total loss for this batch: 2.406507730484009\n"
     ]
    }
   ],
   "source": [
    "loss_fn = torch.nn.CrossEntropyLoss()\n",
    "\n",
    "# NB: Loss functions expect data in batches, so we're creating batches of 4\n",
    "# Represents the model's confidence in each of the 10 classes for a given input\n",
    "dummy_outputs = torch.rand(4, 10) # uniform[0,1] for a 4 * 10 matrix, each row is the score of each classifier, the maximum score is the predicted class\n",
    "# Represents the correct class among the 10 being tested\n",
    "dummy_labels = torch.tensor([1, 5, 3, 7])\n",
    "    \n",
    "print(dummy_outputs)\n",
    "print(dummy_labels)\n",
    "\n",
    "loss = loss_fn(dummy_outputs, dummy_labels)\n",
    "print('Total loss for this batch: {}'.format(loss.item()))"
   ]
  },
  {
   "cell_type": "markdown",
   "metadata": {},
   "source": [
    "Optimizer\n",
    "=========\n",
    "\n",
    "For this example, we'll be using simple [stochastic gradient\n",
    "descent](https://pytorch.org/docs/stable/optim.html) with momentum.\n",
    "\n",
    "It can be instructive to try some variations on this optimization\n",
    "scheme:\n",
    "\n",
    "-   Learning rate determines the size of the steps the optimizer takes.\n",
    "    What does a different learning rate do to the your training results,\n",
    "    in terms of accuracy and convergence time?\n",
    "-   Momentum nudges the optimizer in the direction of strongest gradient\n",
    "    over multiple steps. What does changing this value do to your\n",
    "    results?\n",
    "-   Try some different optimization algorithms, such as averaged SGD,\n",
    "    Adagrad, or Adam. How do your results differ?\n"
   ]
  },
  {
   "cell_type": "code",
   "execution_count": 8,
   "metadata": {
    "collapsed": false
   },
   "outputs": [],
   "source": [
    "# Optimizers specified in the torch.optim package\n",
    "optimizer = torch.optim.SGD(model.parameters(), lr=0.001, momentum=0.9)"
   ]
  },
  {
   "cell_type": "markdown",
   "metadata": {},
   "source": [
    "The Training Loop\n",
    "=================\n",
    "\n",
    "Below, we have a function that performs one training epoch. It\n",
    "enumerates data from the DataLoader, and on each pass of the loop does\n",
    "the following:\n",
    "\n",
    "-   Gets a batch of training data from the DataLoader\n",
    "-   Zeros the optimizer's gradients\n",
    "-   Performs an inference - that is, gets predictions from the model for\n",
    "    an input batch\n",
    "-   Calculates the loss for that set of predictions vs. the labels on\n",
    "    the dataset\n",
    "-   Calculates the backward gradients over the learning weights\n",
    "-   Tells the optimizer to perform one learning step - that is, adjust\n",
    "    the model's learning weights based on the observed gradients for\n",
    "    this batch, according to the optimization algorithm we chose\n",
    "-   It reports on the loss for every 1000 batches.\n",
    "-   Finally, it reports the average per-batch loss for the last 1000\n",
    "    batches, for comparison with a validation run\n"
   ]
  },
  {
   "cell_type": "code",
   "execution_count": 9,
   "metadata": {
    "collapsed": false
   },
   "outputs": [],
   "source": [
    "def train_one_epoch(epoch_index, tb_writer):\n",
    "    running_loss = 0.\n",
    "    last_loss = 0.\n",
    "    \n",
    "    # Here, we use enumerate(training_loader) instead of\n",
    "    # iter(training_loader) so that we can track the batch\n",
    "    # index and do some intra-epoch reporting\n",
    "    for i, data in enumerate(training_loader):\n",
    "        # Every data instance is an input + label pair\n",
    "        inputs, labels = data\n",
    "        \n",
    "        # Zero your gradients for every batch!\n",
    "        optimizer.zero_grad()\n",
    "        \n",
    "        # Make predictions for this batch\n",
    "        outputs = model(inputs)\n",
    "        \n",
    "        # Compute the loss and its gradients\n",
    "        loss = loss_fn(outputs, labels)\n",
    "        loss.backward()\n",
    "        \n",
    "        # Adjust learning weights\n",
    "        optimizer.step()\n",
    "        \n",
    "        # Gather data and report\n",
    "        running_loss += loss.item()\n",
    "        if i % 1000 == 999:\n",
    "            last_loss = running_loss / 1000 # loss per batch\n",
    "            print('  batch {} loss: {}'.format(i + 1, last_loss))\n",
    "            tb_x = epoch_index * len(training_loader) + i + 1\n",
    "            tb_writer.add_scalar('Loss/train', last_loss, tb_x)\n",
    "            running_loss = 0.\n",
    "            \n",
    "    return last_loss"
   ]
  },
  {
   "cell_type": "markdown",
   "metadata": {},
   "source": [
    "Per-Epoch Activity\n",
    "==================\n",
    "\n",
    "There are a couple of things we'll want to do once per epoch:\n",
    "\n",
    "-   Perform validation by checking our relative loss on a set of data\n",
    "    that was not used for training, and report this\n",
    "-   Save a copy of the model\n",
    "\n",
    "Here, we'll do our reporting in TensorBoard. This will require going to\n",
    "the command line to start TensorBoard, and opening it in another browser\n",
    "tab.\n"
   ]
  },
  {
   "cell_type": "code",
   "execution_count": 10,
   "metadata": {
    "collapsed": false
   },
   "outputs": [
    {
     "name": "stdout",
     "output_type": "stream",
     "text": [
      "EPOCH 1:\n",
      "  batch 1000 loss: 2.0195085272639988\n",
      "  batch 2000 loss: 0.9172414084295742\n",
      "  batch 3000 loss: 0.7505558910090476\n",
      "  batch 4000 loss: 0.6516994425053708\n",
      "  batch 5000 loss: 0.5926725748409517\n",
      "  batch 6000 loss: 0.585656919291243\n",
      "  batch 7000 loss: 0.5459018796109595\n",
      "  batch 8000 loss: 0.5205325346838218\n",
      "  batch 9000 loss: 0.5021874587626662\n",
      "  batch 10000 loss: 0.4829799089522567\n",
      "  batch 11000 loss: 0.47997002042178066\n",
      "  batch 12000 loss: 0.4589384098233422\n",
      "  batch 13000 loss: 0.42113775502593487\n",
      "  batch 14000 loss: 0.4450684847452212\n",
      "  batch 15000 loss: 0.4065483351919393\n",
      "LOSS train 0.4065483351919393 valid 0.4527492821216583\n",
      "EPOCH 2:\n",
      "  batch 1000 loss: 0.3833559325981187\n",
      "  batch 2000 loss: 0.3927686906492454\n",
      "  batch 3000 loss: 0.38963882709387687\n",
      "  batch 4000 loss: 0.39121576403058134\n",
      "  batch 5000 loss: 0.3708867917127209\n",
      "  batch 6000 loss: 0.377234105628595\n",
      "  batch 7000 loss: 0.39306407407385996\n",
      "  batch 8000 loss: 0.3842282148405211\n",
      "  batch 9000 loss: 0.3726750490912964\n",
      "  batch 10000 loss: 0.35757271059867346\n",
      "  batch 11000 loss: 0.35043813350201525\n",
      "  batch 12000 loss: 0.36841620053998486\n",
      "  batch 13000 loss: 0.3501667170291767\n",
      "  batch 14000 loss: 0.3802748888543574\n",
      "  batch 15000 loss: 0.3461970478641451\n",
      "LOSS train 0.3461970478641451 valid 0.3607739508152008\n",
      "EPOCH 3:\n",
      "  batch 1000 loss: 0.31470925875756073\n",
      "  batch 2000 loss: 0.3426088188850845\n",
      "  batch 3000 loss: 0.3261875721227916\n",
      "  batch 4000 loss: 0.3367255273827177\n",
      "  batch 5000 loss: 0.34374293727986516\n",
      "  batch 6000 loss: 0.34329712950062824\n",
      "  batch 7000 loss: 0.31367201229301284\n",
      "  batch 8000 loss: 0.3223636973104294\n",
      "  batch 9000 loss: 0.30954921968377314\n",
      "  batch 10000 loss: 0.32271293982905624\n",
      "  batch 11000 loss: 0.3350877646938534\n",
      "  batch 12000 loss: 0.3215184651599338\n",
      "  batch 13000 loss: 0.35009234344134166\n",
      "  batch 14000 loss: 0.31816556633573057\n",
      "  batch 15000 loss: 0.32835254723438995\n",
      "LOSS train 0.32835254723438995 valid 0.3331463932991028\n",
      "EPOCH 4:\n",
      "  batch 1000 loss: 0.3197031092412653\n",
      "  batch 2000 loss: 0.29943602704459044\n",
      "  batch 3000 loss: 0.30279803273860306\n",
      "  batch 4000 loss: 0.2981125465522273\n",
      "  batch 5000 loss: 0.3116667434518167\n",
      "  batch 6000 loss: 0.28828771343114934\n",
      "  batch 7000 loss: 0.3019524170039085\n",
      "  batch 8000 loss: 0.2982810770677461\n",
      "  batch 9000 loss: 0.30437235766533377\n",
      "  batch 10000 loss: 0.3041648830676204\n",
      "  batch 11000 loss: 0.3066672699257301\n",
      "  batch 12000 loss: 0.304808458978212\n",
      "  batch 13000 loss: 0.28237963943798966\n",
      "  batch 14000 loss: 0.295131416227654\n",
      "  batch 15000 loss: 0.28694559750547344\n",
      "LOSS train 0.28694559750547344 valid 0.326443076133728\n",
      "EPOCH 5:\n",
      "  batch 1000 loss: 0.2857196260641431\n",
      "  batch 2000 loss: 0.27515947248866723\n",
      "  batch 3000 loss: 0.2911494857022699\n",
      "  batch 4000 loss: 0.2771690591058286\n",
      "  batch 5000 loss: 0.27898610471803476\n",
      "  batch 6000 loss: 0.2710639686380928\n",
      "  batch 7000 loss: 0.2978609231110313\n",
      "  batch 8000 loss: 0.2812823237957291\n",
      "  batch 9000 loss: 0.2752962782535542\n",
      "  batch 10000 loss: 0.2904377306575916\n",
      "  batch 11000 loss: 0.30277461154936464\n",
      "  batch 12000 loss: 0.3035191347610089\n",
      "  batch 13000 loss: 0.2611099156031341\n",
      "  batch 14000 loss: 0.25491156670834064\n",
      "  batch 15000 loss: 0.2760138610046979\n",
      "LOSS train 0.2760138610046979 valid 0.32358869910240173\n"
     ]
    }
   ],
   "source": [
    "# Initializing in a separate cell so we can easily add more epochs to the same run\n",
    "timestamp = datetime.now().strftime('%Y%m%d_%H%M%S')\n",
    "writer = SummaryWriter('runs/fashion_trainer_{}'.format(timestamp))\n",
    "epoch_number = 0\n",
    "\n",
    "EPOCHS = 5\n",
    "\n",
    "best_vloss = 1_000_000.\n",
    "\n",
    "for epoch in range(EPOCHS):\n",
    "    print('EPOCH {}:'.format(epoch_number + 1))\n",
    "    \n",
    "    # Make sure gradient tracking is on, and do a pass over the data\n",
    "    model.train(True)\n",
    "    avg_loss = train_one_epoch(epoch_number, writer)\n",
    "    \n",
    "\n",
    "    running_vloss = 0.0\n",
    "    # Set the model to evaluation mode, disabling dropout and using population \n",
    "    # statistics for batch normalization.\n",
    "    model.eval()\n",
    "\n",
    "    # Disable gradient computation and reduce memory consumption.\n",
    "    with torch.no_grad():\n",
    "        for i, vdata in enumerate(validation_loader):\n",
    "            vinputs, vlabels = vdata\n",
    "            voutputs = model(vinputs)\n",
    "            vloss = loss_fn(voutputs, vlabels)\n",
    "            running_vloss += vloss\n",
    "    \n",
    "    avg_vloss = running_vloss / (i + 1)\n",
    "    print('LOSS train {} valid {}'.format(avg_loss, avg_vloss))\n",
    "    \n",
    "    # Log the running loss averaged per batch\n",
    "    # for both training and validation\n",
    "    writer.add_scalars('Training vs. Validation Loss',\n",
    "                    { 'Training' : avg_loss, 'Validation' : avg_vloss },\n",
    "                    epoch_number + 1)\n",
    "    writer.flush()\n",
    "    \n",
    "    # Track best performance, and save the model's state\n",
    "    if avg_vloss < best_vloss:\n",
    "        best_vloss = avg_vloss\n",
    "        model_path = 'model_{}_{}'.format(timestamp, epoch_number)\n",
    "        torch.save(model.state_dict(), model_path)\n",
    "    \n",
    "    epoch_number += 1"
   ]
  },
  {
   "cell_type": "markdown",
   "metadata": {},
   "source": [
    "To load a saved version of the model:\n",
    "\n",
    "``` {.python}\n",
    "saved_model = GarmentClassifier()\n",
    "saved_model.load_state_dict(torch.load(PATH))\n",
    "```\n",
    "\n",
    "Once you've loaded the model, it's ready for whatever you need it for\n",
    "-more training, inference, or analysis.\n",
    "\n",
    "Note that if your model has constructor parameters that affect model\n",
    "structure, you'll need to provide them and configure the model\n",
    "identically to the state in which it was saved.\n",
    "\n",
    "Other Resources\n",
    "===============\n",
    "\n",
    "-   Docs on the [data\n",
    "    utilities](https://pytorch.org/docs/stable/data.html), including\n",
    "    Dataset and DataLoader, at pytorch.org\n",
    "-   A [note on the use of pinned\n",
    "    memory](https://pytorch.org/docs/stable/notes/cuda.html#cuda-memory-pinning)\n",
    "    for GPU training\n",
    "-   Documentation on the datasets available in\n",
    "    [TorchVision](https://pytorch.org/vision/stable/datasets.html),\n",
    "    [TorchText](https://pytorch.org/text/stable/datasets.html), and\n",
    "    [TorchAudio](https://pytorch.org/audio/stable/datasets.html)\n",
    "-   Documentation on the [loss\n",
    "    functions](https://pytorch.org/docs/stable/nn.html#loss-functions)\n",
    "    available in PyTorch\n",
    "-   Documentation on the [torch.optim\n",
    "    package](https://pytorch.org/docs/stable/optim.html), which includes\n",
    "    optimizers and related tools, such as learning rate scheduling\n",
    "-   A detailed [tutorial on saving and loading\n",
    "    models](https://pytorch.org/tutorials/beginner/saving_loading_models.html)\n",
    "-   The [Tutorials section of\n",
    "    pytorch.org](https://pytorch.org/tutorials/) contains tutorials on a\n",
    "    broad variety of training tasks, including classification in\n",
    "    different domains, generative adversarial networks, reinforcement\n",
    "    learning, and more\n"
   ]
  }
 ],
 "metadata": {
  "kernelspec": {
   "display_name": "py39",
   "language": "python",
   "name": "python3"
  },
  "language_info": {
   "codemirror_mode": {
    "name": "ipython",
    "version": 3
   },
   "file_extension": ".py",
   "mimetype": "text/x-python",
   "name": "python",
   "nbconvert_exporter": "python",
   "pygments_lexer": "ipython3",
   "version": "3.9.13"
  }
 },
 "nbformat": 4,
 "nbformat_minor": 0
}
